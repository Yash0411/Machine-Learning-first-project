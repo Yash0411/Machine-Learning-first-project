{
  "nbformat": 4,
  "nbformat_minor": 0,
  "metadata": {
    "colab": {
      "name": "Traffic sign detection.ipynb",
      "provenance": [],
      "authorship_tag": "ABX9TyO2Ug5R3Z06ClpFAL/JH2Ay",
      "include_colab_link": true
    },
    "kernelspec": {
      "name": "python3",
      "display_name": "Python 3"
    },
    "accelerator": "GPU"
  },
  "cells": [
    {
      "cell_type": "markdown",
      "metadata": {
        "id": "view-in-github",
        "colab_type": "text"
      },
      "source": [
        "<a href=\"https://colab.research.google.com/github/Yash0411/Machine-Learning-initial-projects/blob/master/Traffic_sign_detection.ipynb\" target=\"_parent\"><img src=\"https://colab.research.google.com/assets/colab-badge.svg\" alt=\"Open In Colab\"/></a>"
      ]
    },
    {
      "cell_type": "code",
      "metadata": {
        "_uuid": "8f2839f25d086af736a60e9eeb907d3b93b6e0e5",
        "_cell_guid": "b1076dfc-b9ad-4769-8c92-a6c4dae69d19",
        "trusted": true,
        "id": "xlWru4z4U_hj",
        "colab_type": "code",
        "colab": {}
      },
      "source": [
        "\n",
        "import numpy as np # linear algebra\n",
        "import pandas as pd # data processing, CSV file I/O (e.g. pd.read_csv)\n",
        "import tensorflow as tf\n",
        "from tensorflow.keras.optimizers import RMSprop\n",
        "from tensorflow.keras.preprocessing.image import ImageDataGenerator\n",
        "# Input data files are available in the read-only \"../input/\" directory\n",
        "# For example, running this (by clicking run or pressing Shift+Enter) will list all files under the input directory"
      ],
      "execution_count": 0,
      "outputs": []
    },
    {
      "cell_type": "code",
      "metadata": {
        "id": "RtWw_IXyVC7F",
        "colab_type": "code",
        "outputId": "e2c8df95-1869-4379-e618-0b3201b4a233",
        "colab": {
          "resources": {
            "http://localhost:8080/nbextensions/google.colab/files.js": {
              "data": "Ly8gQ29weXJpZ2h0IDIwMTcgR29vZ2xlIExMQwovLwovLyBMaWNlbnNlZCB1bmRlciB0aGUgQXBhY2hlIExpY2Vuc2UsIFZlcnNpb24gMi4wICh0aGUgIkxpY2Vuc2UiKTsKLy8geW91IG1heSBub3QgdXNlIHRoaXMgZmlsZSBleGNlcHQgaW4gY29tcGxpYW5jZSB3aXRoIHRoZSBMaWNlbnNlLgovLyBZb3UgbWF5IG9idGFpbiBhIGNvcHkgb2YgdGhlIExpY2Vuc2UgYXQKLy8KLy8gICAgICBodHRwOi8vd3d3LmFwYWNoZS5vcmcvbGljZW5zZXMvTElDRU5TRS0yLjAKLy8KLy8gVW5sZXNzIHJlcXVpcmVkIGJ5IGFwcGxpY2FibGUgbGF3IG9yIGFncmVlZCB0byBpbiB3cml0aW5nLCBzb2Z0d2FyZQovLyBkaXN0cmlidXRlZCB1bmRlciB0aGUgTGljZW5zZSBpcyBkaXN0cmlidXRlZCBvbiBhbiAiQVMgSVMiIEJBU0lTLAovLyBXSVRIT1VUIFdBUlJBTlRJRVMgT1IgQ09ORElUSU9OUyBPRiBBTlkgS0lORCwgZWl0aGVyIGV4cHJlc3Mgb3IgaW1wbGllZC4KLy8gU2VlIHRoZSBMaWNlbnNlIGZvciB0aGUgc3BlY2lmaWMgbGFuZ3VhZ2UgZ292ZXJuaW5nIHBlcm1pc3Npb25zIGFuZAovLyBsaW1pdGF0aW9ucyB1bmRlciB0aGUgTGljZW5zZS4KCi8qKgogKiBAZmlsZW92ZXJ2aWV3IEhlbHBlcnMgZm9yIGdvb2dsZS5jb2xhYiBQeXRob24gbW9kdWxlLgogKi8KKGZ1bmN0aW9uKHNjb3BlKSB7CmZ1bmN0aW9uIHNwYW4odGV4dCwgc3R5bGVBdHRyaWJ1dGVzID0ge30pIHsKICBjb25zdCBlbGVtZW50ID0gZG9jdW1lbnQuY3JlYXRlRWxlbWVudCgnc3BhbicpOwogIGVsZW1lbnQudGV4dENvbnRlbnQgPSB0ZXh0OwogIGZvciAoY29uc3Qga2V5IG9mIE9iamVjdC5rZXlzKHN0eWxlQXR0cmlidXRlcykpIHsKICAgIGVsZW1lbnQuc3R5bGVba2V5XSA9IHN0eWxlQXR0cmlidXRlc1trZXldOwogIH0KICByZXR1cm4gZWxlbWVudDsKfQoKLy8gTWF4IG51bWJlciBvZiBieXRlcyB3aGljaCB3aWxsIGJlIHVwbG9hZGVkIGF0IGEgdGltZS4KY29uc3QgTUFYX1BBWUxPQURfU0laRSA9IDEwMCAqIDEwMjQ7Ci8vIE1heCBhbW91bnQgb2YgdGltZSB0byBibG9jayB3YWl0aW5nIGZvciB0aGUgdXNlci4KY29uc3QgRklMRV9DSEFOR0VfVElNRU9VVF9NUyA9IDMwICogMTAwMDsKCmZ1bmN0aW9uIF91cGxvYWRGaWxlcyhpbnB1dElkLCBvdXRwdXRJZCkgewogIGNvbnN0IHN0ZXBzID0gdXBsb2FkRmlsZXNTdGVwKGlucHV0SWQsIG91dHB1dElkKTsKICBjb25zdCBvdXRwdXRFbGVtZW50ID0gZG9jdW1lbnQuZ2V0RWxlbWVudEJ5SWQob3V0cHV0SWQpOwogIC8vIENhY2hlIHN0ZXBzIG9uIHRoZSBvdXRwdXRFbGVtZW50IHRvIG1ha2UgaXQgYXZhaWxhYmxlIGZvciB0aGUgbmV4dCBjYWxsCiAgLy8gdG8gdXBsb2FkRmlsZXNDb250aW51ZSBmcm9tIFB5dGhvbi4KICBvdXRwdXRFbGVtZW50LnN0ZXBzID0gc3RlcHM7CgogIHJldHVybiBfdXBsb2FkRmlsZXNDb250aW51ZShvdXRwdXRJZCk7Cn0KCi8vIFRoaXMgaXMgcm91Z2hseSBhbiBhc3luYyBnZW5lcmF0b3IgKG5vdCBzdXBwb3J0ZWQgaW4gdGhlIGJyb3dzZXIgeWV0KSwKLy8gd2hlcmUgdGhlcmUgYXJlIG11bHRpcGxlIGFzeW5jaHJvbm91cyBzdGVwcyBhbmQgdGhlIFB5dGhvbiBzaWRlIGlzIGdvaW5nCi8vIHRvIHBvbGwgZm9yIGNvbXBsZXRpb24gb2YgZWFjaCBzdGVwLgovLyBUaGlzIHVzZXMgYSBQcm9taXNlIHRvIGJsb2NrIHRoZSBweXRob24gc2lkZSBvbiBjb21wbGV0aW9uIG9mIGVhY2ggc3RlcCwKLy8gdGhlbiBwYXNzZXMgdGhlIHJlc3VsdCBvZiB0aGUgcHJldmlvdXMgc3RlcCBhcyB0aGUgaW5wdXQgdG8gdGhlIG5leHQgc3RlcC4KZnVuY3Rpb24gX3VwbG9hZEZpbGVzQ29udGludWUob3V0cHV0SWQpIHsKICBjb25zdCBvdXRwdXRFbGVtZW50ID0gZG9jdW1lbnQuZ2V0RWxlbWVudEJ5SWQob3V0cHV0SWQpOwogIGNvbnN0IHN0ZXBzID0gb3V0cHV0RWxlbWVudC5zdGVwczsKCiAgY29uc3QgbmV4dCA9IHN0ZXBzLm5leHQob3V0cHV0RWxlbWVudC5sYXN0UHJvbWlzZVZhbHVlKTsKICByZXR1cm4gUHJvbWlzZS5yZXNvbHZlKG5leHQudmFsdWUucHJvbWlzZSkudGhlbigodmFsdWUpID0+IHsKICAgIC8vIENhY2hlIHRoZSBsYXN0IHByb21pc2UgdmFsdWUgdG8gbWFrZSBpdCBhdmFpbGFibGUgdG8gdGhlIG5leHQKICAgIC8vIHN0ZXAgb2YgdGhlIGdlbmVyYXRvci4KICAgIG91dHB1dEVsZW1lbnQubGFzdFByb21pc2VWYWx1ZSA9IHZhbHVlOwogICAgcmV0dXJuIG5leHQudmFsdWUucmVzcG9uc2U7CiAgfSk7Cn0KCi8qKgogKiBHZW5lcmF0b3IgZnVuY3Rpb24gd2hpY2ggaXMgY2FsbGVkIGJldHdlZW4gZWFjaCBhc3luYyBzdGVwIG9mIHRoZSB1cGxvYWQKICogcHJvY2Vzcy4KICogQHBhcmFtIHtzdHJpbmd9IGlucHV0SWQgRWxlbWVudCBJRCBvZiB0aGUgaW5wdXQgZmlsZSBwaWNrZXIgZWxlbWVudC4KICogQHBhcmFtIHtzdHJpbmd9IG91dHB1dElkIEVsZW1lbnQgSUQgb2YgdGhlIG91dHB1dCBkaXNwbGF5LgogKiBAcmV0dXJuIHshSXRlcmFibGU8IU9iamVjdD59IEl0ZXJhYmxlIG9mIG5leHQgc3RlcHMuCiAqLwpmdW5jdGlvbiogdXBsb2FkRmlsZXNTdGVwKGlucHV0SWQsIG91dHB1dElkKSB7CiAgY29uc3QgaW5wdXRFbGVtZW50ID0gZG9jdW1lbnQuZ2V0RWxlbWVudEJ5SWQoaW5wdXRJZCk7CiAgaW5wdXRFbGVtZW50LmRpc2FibGVkID0gZmFsc2U7CgogIGNvbnN0IG91dHB1dEVsZW1lbnQgPSBkb2N1bWVudC5nZXRFbGVtZW50QnlJZChvdXRwdXRJZCk7CiAgb3V0cHV0RWxlbWVudC5pbm5lckhUTUwgPSAnJzsKCiAgY29uc3QgcGlja2VkUHJvbWlzZSA9IG5ldyBQcm9taXNlKChyZXNvbHZlKSA9PiB7CiAgICBpbnB1dEVsZW1lbnQuYWRkRXZlbnRMaXN0ZW5lcignY2hhbmdlJywgKGUpID0+IHsKICAgICAgcmVzb2x2ZShlLnRhcmdldC5maWxlcyk7CiAgICB9KTsKICB9KTsKCiAgY29uc3QgY2FuY2VsID0gZG9jdW1lbnQuY3JlYXRlRWxlbWVudCgnYnV0dG9uJyk7CiAgaW5wdXRFbGVtZW50LnBhcmVudEVsZW1lbnQuYXBwZW5kQ2hpbGQoY2FuY2VsKTsKICBjYW5jZWwudGV4dENvbnRlbnQgPSAnQ2FuY2VsIHVwbG9hZCc7CiAgY29uc3QgY2FuY2VsUHJvbWlzZSA9IG5ldyBQcm9taXNlKChyZXNvbHZlKSA9PiB7CiAgICBjYW5jZWwub25jbGljayA9ICgpID0+IHsKICAgICAgcmVzb2x2ZShudWxsKTsKICAgIH07CiAgfSk7CgogIC8vIENhbmNlbCB1cGxvYWQgaWYgdXNlciBoYXNuJ3QgcGlja2VkIGFueXRoaW5nIGluIHRpbWVvdXQuCiAgY29uc3QgdGltZW91dFByb21pc2UgPSBuZXcgUHJvbWlzZSgocmVzb2x2ZSkgPT4gewogICAgc2V0VGltZW91dCgoKSA9PiB7CiAgICAgIHJlc29sdmUobnVsbCk7CiAgICB9LCBGSUxFX0NIQU5HRV9USU1FT1VUX01TKTsKICB9KTsKCiAgLy8gV2FpdCBmb3IgdGhlIHVzZXIgdG8gcGljayB0aGUgZmlsZXMuCiAgY29uc3QgZmlsZXMgPSB5aWVsZCB7CiAgICBwcm9taXNlOiBQcm9taXNlLnJhY2UoW3BpY2tlZFByb21pc2UsIHRpbWVvdXRQcm9taXNlLCBjYW5jZWxQcm9taXNlXSksCiAgICByZXNwb25zZTogewogICAgICBhY3Rpb246ICdzdGFydGluZycsCiAgICB9CiAgfTsKCiAgaWYgKCFmaWxlcykgewogICAgcmV0dXJuIHsKICAgICAgcmVzcG9uc2U6IHsKICAgICAgICBhY3Rpb246ICdjb21wbGV0ZScsCiAgICAgIH0KICAgIH07CiAgfQoKICBjYW5jZWwucmVtb3ZlKCk7CgogIC8vIERpc2FibGUgdGhlIGlucHV0IGVsZW1lbnQgc2luY2UgZnVydGhlciBwaWNrcyBhcmUgbm90IGFsbG93ZWQuCiAgaW5wdXRFbGVtZW50LmRpc2FibGVkID0gdHJ1ZTsKCiAgZm9yIChjb25zdCBmaWxlIG9mIGZpbGVzKSB7CiAgICBjb25zdCBsaSA9IGRvY3VtZW50LmNyZWF0ZUVsZW1lbnQoJ2xpJyk7CiAgICBsaS5hcHBlbmQoc3BhbihmaWxlLm5hbWUsIHtmb250V2VpZ2h0OiAnYm9sZCd9KSk7CiAgICBsaS5hcHBlbmQoc3BhbigKICAgICAgICBgKCR7ZmlsZS50eXBlIHx8ICduL2EnfSkgLSAke2ZpbGUuc2l6ZX0gYnl0ZXMsIGAgKwogICAgICAgIGBsYXN0IG1vZGlmaWVkOiAkewogICAgICAgICAgICBmaWxlLmxhc3RNb2RpZmllZERhdGUgPyBmaWxlLmxhc3RNb2RpZmllZERhdGUudG9Mb2NhbGVEYXRlU3RyaW5nKCkgOgogICAgICAgICAgICAgICAgICAgICAgICAgICAgICAgICAgICAnbi9hJ30gLSBgKSk7CiAgICBjb25zdCBwZXJjZW50ID0gc3BhbignMCUgZG9uZScpOwogICAgbGkuYXBwZW5kQ2hpbGQocGVyY2VudCk7CgogICAgb3V0cHV0RWxlbWVudC5hcHBlbmRDaGlsZChsaSk7CgogICAgY29uc3QgZmlsZURhdGFQcm9taXNlID0gbmV3IFByb21pc2UoKHJlc29sdmUpID0+IHsKICAgICAgY29uc3QgcmVhZGVyID0gbmV3IEZpbGVSZWFkZXIoKTsKICAgICAgcmVhZGVyLm9ubG9hZCA9IChlKSA9PiB7CiAgICAgICAgcmVzb2x2ZShlLnRhcmdldC5yZXN1bHQpOwogICAgICB9OwogICAgICByZWFkZXIucmVhZEFzQXJyYXlCdWZmZXIoZmlsZSk7CiAgICB9KTsKICAgIC8vIFdhaXQgZm9yIHRoZSBkYXRhIHRvIGJlIHJlYWR5LgogICAgbGV0IGZpbGVEYXRhID0geWllbGQgewogICAgICBwcm9taXNlOiBmaWxlRGF0YVByb21pc2UsCiAgICAgIHJlc3BvbnNlOiB7CiAgICAgICAgYWN0aW9uOiAnY29udGludWUnLAogICAgICB9CiAgICB9OwoKICAgIC8vIFVzZSBhIGNodW5rZWQgc2VuZGluZyB0byBhdm9pZCBtZXNzYWdlIHNpemUgbGltaXRzLiBTZWUgYi82MjExNTY2MC4KICAgIGxldCBwb3NpdGlvbiA9IDA7CiAgICB3aGlsZSAocG9zaXRpb24gPCBmaWxlRGF0YS5ieXRlTGVuZ3RoKSB7CiAgICAgIGNvbnN0IGxlbmd0aCA9IE1hdGgubWluKGZpbGVEYXRhLmJ5dGVMZW5ndGggLSBwb3NpdGlvbiwgTUFYX1BBWUxPQURfU0laRSk7CiAgICAgIGNvbnN0IGNodW5rID0gbmV3IFVpbnQ4QXJyYXkoZmlsZURhdGEsIHBvc2l0aW9uLCBsZW5ndGgpOwogICAgICBwb3NpdGlvbiArPSBsZW5ndGg7CgogICAgICBjb25zdCBiYXNlNjQgPSBidG9hKFN0cmluZy5mcm9tQ2hhckNvZGUuYXBwbHkobnVsbCwgY2h1bmspKTsKICAgICAgeWllbGQgewogICAgICAgIHJlc3BvbnNlOiB7CiAgICAgICAgICBhY3Rpb246ICdhcHBlbmQnLAogICAgICAgICAgZmlsZTogZmlsZS5uYW1lLAogICAgICAgICAgZGF0YTogYmFzZTY0LAogICAgICAgIH0sCiAgICAgIH07CiAgICAgIHBlcmNlbnQudGV4dENvbnRlbnQgPQogICAgICAgICAgYCR7TWF0aC5yb3VuZCgocG9zaXRpb24gLyBmaWxlRGF0YS5ieXRlTGVuZ3RoKSAqIDEwMCl9JSBkb25lYDsKICAgIH0KICB9CgogIC8vIEFsbCBkb25lLgogIHlpZWxkIHsKICAgIHJlc3BvbnNlOiB7CiAgICAgIGFjdGlvbjogJ2NvbXBsZXRlJywKICAgIH0KICB9Owp9CgpzY29wZS5nb29nbGUgPSBzY29wZS5nb29nbGUgfHwge307CnNjb3BlLmdvb2dsZS5jb2xhYiA9IHNjb3BlLmdvb2dsZS5jb2xhYiB8fCB7fTsKc2NvcGUuZ29vZ2xlLmNvbGFiLl9maWxlcyA9IHsKICBfdXBsb2FkRmlsZXMsCiAgX3VwbG9hZEZpbGVzQ29udGludWUsCn07Cn0pKHNlbGYpOwo=",
              "ok": true,
              "headers": [
                [
                  "content-type",
                  "application/javascript"
                ]
              ],
              "status": 200,
              "status_text": "OK"
            }
          },
          "base_uri": "https://localhost:8080/",
          "height": 95
        }
      },
      "source": [
        "from google.colab import files\n",
        "files.upload() #upload kaggle.json\n",
        " \n",
        "!pip install -q kaggle\n",
        "!mkdir -p ~/.kaggle\n",
        "!cp kaggle.json ~/.kaggle/\n",
        "!ls ~/.kaggle\n",
        "!chmod 600 /root/.kaggle/kaggle.json"
      ],
      "execution_count": 2,
      "outputs": [
        {
          "output_type": "display_data",
          "data": {
            "text/html": [
              "\n",
              "     <input type=\"file\" id=\"files-1c3f29c8-1512-4384-b7aa-a9df79834068\" name=\"files[]\" multiple disabled />\n",
              "     <output id=\"result-1c3f29c8-1512-4384-b7aa-a9df79834068\">\n",
              "      Upload widget is only available when the cell has been executed in the\n",
              "      current browser session. Please rerun this cell to enable.\n",
              "      </output>\n",
              "      <script src=\"/nbextensions/google.colab/files.js\"></script> "
            ],
            "text/plain": [
              "<IPython.core.display.HTML object>"
            ]
          },
          "metadata": {
            "tags": []
          }
        },
        {
          "output_type": "stream",
          "text": [
            "Saving kaggle.json to kaggle.json\n",
            "kaggle.json\n"
          ],
          "name": "stdout"
        }
      ]
    },
    {
      "cell_type": "code",
      "metadata": {
        "id": "nS-RQcjkw4cJ",
        "colab_type": "code",
        "outputId": "10a066fe-7337-458a-dae0-75059b00de78",
        "colab": {
          "base_uri": "https://localhost:8080/",
          "height": 72
        }
      },
      "source": [
        "!kaggle datasets download -d eunjurho/german-traffic-sign-recognition-benchmark-cropped"
      ],
      "execution_count": 3,
      "outputs": [
        {
          "output_type": "stream",
          "text": [
            "Downloading german-traffic-sign-recognition-benchmark-cropped.zip to /content\n",
            " 99% 203M/206M [00:05<00:00, 30.7MB/s]\n",
            "100% 206M/206M [00:05<00:00, 36.4MB/s]\n"
          ],
          "name": "stdout"
        }
      ]
    },
    {
      "cell_type": "code",
      "metadata": {
        "id": "hnC1q-PoxTvd",
        "colab_type": "code",
        "outputId": "50155a06-23ff-48e7-ecda-5ba63cdfbbc8",
        "colab": {
          "base_uri": "https://localhost:8080/",
          "height": 54
        }
      },
      "source": [
        "!unzip -q /content/german-traffic-sign-recognition-benchmark-cropped.zip -d .\n",
        "!ls"
      ],
      "execution_count": 4,
      "outputs": [
        {
          "output_type": "stream",
          "text": [
            "german-traffic-sign-recognition-benchmark-cropped.zip  kaggle.json\n",
            "gtsrb-preprocessed\t\t\t\t       sample_data\n"
          ],
          "name": "stdout"
        }
      ]
    },
    {
      "cell_type": "code",
      "metadata": {
        "id": "42VKmuwhxV5D",
        "colab_type": "code",
        "outputId": "316930bf-bca1-4c39-f068-0018ac167dc8",
        "colab": {
          "base_uri": "https://localhost:8080/",
          "height": 54
        }
      },
      "source": [
        "import os\n",
        "\n",
        "training_dir = os.listdir('/content/gtsrb-preprocessed/train')\n",
        "testing_dir = os.listdir('/content/gtsrb-preprocessed/test')\n",
        "\n",
        "print(len(training_dir))\n",
        "print(len(testing_dir))\n"
      ],
      "execution_count": 5,
      "outputs": [
        {
          "output_type": "stream",
          "text": [
            "43\n",
            "12630\n"
          ],
          "name": "stdout"
        }
      ]
    },
    {
      "cell_type": "code",
      "metadata": {
        "id": "x2fT_TXkz8vC",
        "colab_type": "code",
        "colab": {}
      },
      "source": [
        "os.mkdir(\"/content/train/\")\n",
        "os.mkdir(\"/content/test/\")"
      ],
      "execution_count": 0,
      "outputs": []
    },
    {
      "cell_type": "code",
      "metadata": {
        "id": "_oLMqfL80Wpn",
        "colab_type": "code",
        "colab": {}
      },
      "source": [
        "for i in training_dir:\n",
        "  os.mkdir(\"/content/train/\"+i)\n",
        "  os.mkdir(\"/content/test/\"+i)"
      ],
      "execution_count": 0,
      "outputs": []
    },
    {
      "cell_type": "code",
      "metadata": {
        "id": "pGHvjh2Iy-yK",
        "colab_type": "code",
        "colab": {}
      },
      "source": [
        "import random\n",
        "from shutil import copyfile\n",
        "\n",
        "def split_data(SOURCE, TRAINING, TESTING, SPLIT_SIZE):\n",
        "    \n",
        "    files = []\n",
        "    \n",
        "    for filename in os.listdir(SOURCE):\n",
        "        file = SOURCE + filename\n",
        "        if os.path.getsize(file) > 0:\n",
        "            files.append(filename)\n",
        "        else:\n",
        "            print(filename + \"is zero so ignoring length\")\n",
        "            \n",
        "    \n",
        "    training_length = int(len(files) * SPLIT_SIZE)\n",
        "    testing_length = int(len(files) * (1 - SPLIT_SIZE))\n",
        "    shuffeled_set = random.sample (files, len(files))\n",
        "    training_set = shuffeled_set[0 : training_length]\n",
        "    testing_set = shuffeled_set[~testing_length : ]\n",
        "    \n",
        "    for filename in training_set:\n",
        "        this_file = SOURCE + filename\n",
        "        destination = TRAINING + filename\n",
        "        copyfile(this_file, destination)\n",
        "        \n",
        "    for filename in testing_set:\n",
        "        this_file = SOURCE + filename\n",
        "        destination = TESTING + filename\n",
        "        copyfile(this_file, destination) \n",
        "\n",
        "\n",
        "for i in training_dir:\n",
        "  split_data(\"/content/gtsrb-preprocessed/train/\"+i+\"/\", \"/content/train/\"+i+\"/\", \"/content/test/\"+i+\"/\", 0.96)\n",
        "\n",
        "  print(len(os.listdir('/content/train/'+i)))\n",
        "  print(len(os.listdir('/content/test/'+i)))"
      ],
      "execution_count": 0,
      "outputs": []
    },
    {
      "cell_type": "code",
      "metadata": {
        "id": "LZCOuh-oxkK2",
        "colab_type": "code",
        "outputId": "9ccd53b6-77f5-4d74-c8ef-38e3be1969d4",
        "colab": {
          "base_uri": "https://localhost:8080/",
          "height": 35
        }
      },
      "source": [
        "from keras.models import Sequential\n",
        "from keras.layers import Conv2D\n",
        "from keras.layers import MaxPooling2D\n",
        "from keras.layers import Flatten\n",
        "from keras.layers import Dense\n",
        "\n",
        "classifier = Sequential()\n",
        "\n",
        "\n",
        "classifier.add(Conv2D(32, (3, 3), input_shape = (64, 64, 3), activation = 'relu'))\n",
        "classifier.add(MaxPooling2D(pool_size = (2, 2)))\n",
        "\n",
        "classifier.add(Conv2D(64, (3, 3), activation = 'relu'))\n",
        "classifier.add(MaxPooling2D(pool_size = (2, 2)))\n",
        "\n",
        "classifier.add(Conv2D(64, (3, 3), activation = 'relu'))\n",
        "classifier.add(MaxPooling2D(pool_size = (2, 2)))\n",
        "\n",
        "classifier.add(Flatten())\n",
        "\n",
        "classifier.add(Dense(units=64, activation='relu'))\n",
        "classifier.add(Dense(units=128, activation='relu'))\n",
        "classifier.add(Dense(units = 43, activation = 'softmax'))\n",
        "\n",
        "classifier.compile(optimizer = 'adam', loss = 'categorical_crossentropy', metrics = ['accuracy'])"
      ],
      "execution_count": 9,
      "outputs": [
        {
          "output_type": "stream",
          "text": [
            "Using TensorFlow backend.\n"
          ],
          "name": "stderr"
        }
      ]
    },
    {
      "cell_type": "code",
      "metadata": {
        "id": "2e2EtHL8xtL3",
        "colab_type": "code",
        "outputId": "bcf9594b-248f-485a-e4fd-b0f43dcbade4",
        "colab": {
          "base_uri": "https://localhost:8080/",
          "height": 54
        }
      },
      "source": [
        "TRAINING_DIR = \"/content/train\"\n",
        "train_datagen = ImageDataGenerator( rescale=1./255.)\n",
        "\n",
        "training_set = train_datagen.flow_from_directory(TRAINING_DIR,\n",
        "                                                 target_size = (64, 64),\n",
        "                                                 batch_size = 32,\n",
        "                                                 class_mode = 'categorical')\n",
        "\n",
        "\n",
        "\n",
        "\n",
        "VALIDATION_DIR = \"/content/test\"\n",
        "validation_datagen = ImageDataGenerator(rescale = 1.0 / 255)\n",
        "\n",
        "test_set = validation_datagen.flow_from_directory(VALIDATION_DIR,\n",
        "                                            target_size = (64, 64),\n",
        "                                            batch_size = 32,\n",
        "                                            class_mode = 'categorical')"
      ],
      "execution_count": 10,
      "outputs": [
        {
          "output_type": "stream",
          "text": [
            "Found 37624 images belonging to 43 classes.\n",
            "Found 1593 images belonging to 43 classes.\n"
          ],
          "name": "stdout"
        }
      ]
    },
    {
      "cell_type": "code",
      "metadata": {
        "id": "pdcyb8_Tx5HR",
        "colab_type": "code",
        "outputId": "f42f034b-5270-415d-b400-229d9f7a851b",
        "colab": {
          "base_uri": "https://localhost:8080/",
          "height": 1000
        }
      },
      "source": [
        "history = classifier.fit_generator(training_set,\n",
        "                         epochs = 32,\n",
        "                         validation_data = test_set)"
      ],
      "execution_count": 11,
      "outputs": [
        {
          "output_type": "stream",
          "text": [
            "Epoch 1/32\n",
            "1176/1176 [==============================] - 31s 26ms/step - loss: 0.8999 - accuracy: 0.7463 - val_loss: 0.0364 - val_accuracy: 0.9448\n",
            "Epoch 2/32\n",
            "1176/1176 [==============================] - 24s 21ms/step - loss: 0.1374 - accuracy: 0.9634 - val_loss: 0.0416 - val_accuracy: 0.9749\n",
            "Epoch 3/32\n",
            "1176/1176 [==============================] - 24s 21ms/step - loss: 0.0813 - accuracy: 0.9785 - val_loss: 0.0888 - val_accuracy: 0.9705\n",
            "Epoch 4/32\n",
            "1176/1176 [==============================] - 24s 21ms/step - loss: 0.0582 - accuracy: 0.9837 - val_loss: 0.0063 - val_accuracy: 0.9805\n",
            "Epoch 5/32\n",
            "1176/1176 [==============================] - 24s 20ms/step - loss: 0.0509 - accuracy: 0.9848 - val_loss: 0.0077 - val_accuracy: 0.9793\n",
            "Epoch 6/32\n",
            "1176/1176 [==============================] - 24s 21ms/step - loss: 0.0361 - accuracy: 0.9898 - val_loss: 0.0165 - val_accuracy: 0.9837\n",
            "Epoch 7/32\n",
            "1176/1176 [==============================] - 24s 21ms/step - loss: 0.0318 - accuracy: 0.9912 - val_loss: 0.0069 - val_accuracy: 0.9868\n",
            "Epoch 8/32\n",
            "1176/1176 [==============================] - 24s 21ms/step - loss: 0.0257 - accuracy: 0.9928 - val_loss: 0.0818 - val_accuracy: 0.9755\n",
            "Epoch 9/32\n",
            "1176/1176 [==============================] - 25s 21ms/step - loss: 0.0252 - accuracy: 0.9924 - val_loss: 0.0013 - val_accuracy: 0.9768\n",
            "Epoch 10/32\n",
            "1176/1176 [==============================] - 24s 20ms/step - loss: 0.0252 - accuracy: 0.9929 - val_loss: 3.2663e-06 - val_accuracy: 0.9862\n",
            "Epoch 11/32\n",
            "1176/1176 [==============================] - 24s 21ms/step - loss: 0.0153 - accuracy: 0.9954 - val_loss: 0.0030 - val_accuracy: 0.9824\n",
            "Epoch 12/32\n",
            "1176/1176 [==============================] - 24s 20ms/step - loss: 0.0219 - accuracy: 0.9935 - val_loss: 0.0119 - val_accuracy: 0.9906\n",
            "Epoch 13/32\n",
            "1176/1176 [==============================] - 24s 21ms/step - loss: 0.0127 - accuracy: 0.9963 - val_loss: 0.0158 - val_accuracy: 0.9893\n",
            "Epoch 14/32\n",
            "1176/1176 [==============================] - 24s 20ms/step - loss: 0.0151 - accuracy: 0.9953 - val_loss: 0.2237 - val_accuracy: 0.9843\n",
            "Epoch 15/32\n",
            "1176/1176 [==============================] - 24s 20ms/step - loss: 0.0206 - accuracy: 0.9941 - val_loss: 0.0020 - val_accuracy: 0.9900\n",
            "Epoch 16/32\n",
            "1176/1176 [==============================] - 24s 20ms/step - loss: 0.0123 - accuracy: 0.9965 - val_loss: 3.2575e-05 - val_accuracy: 0.9900\n",
            "Epoch 17/32\n",
            "1176/1176 [==============================] - 24s 20ms/step - loss: 0.0130 - accuracy: 0.9959 - val_loss: 0.1992 - val_accuracy: 0.9862\n",
            "Epoch 18/32\n",
            "1176/1176 [==============================] - 24s 21ms/step - loss: 0.0207 - accuracy: 0.9945 - val_loss: 0.0664 - val_accuracy: 0.9837\n",
            "Epoch 19/32\n",
            "1176/1176 [==============================] - 24s 20ms/step - loss: 0.0140 - accuracy: 0.9967 - val_loss: 1.1929 - val_accuracy: 0.9900\n",
            "Epoch 20/32\n",
            "1176/1176 [==============================] - 24s 20ms/step - loss: 0.0107 - accuracy: 0.9967 - val_loss: 1.0050e-04 - val_accuracy: 0.9868\n",
            "Epoch 21/32\n",
            "1176/1176 [==============================] - 24s 21ms/step - loss: 0.0131 - accuracy: 0.9965 - val_loss: 1.8099 - val_accuracy: 0.9881\n",
            "Epoch 22/32\n",
            "1176/1176 [==============================] - 24s 21ms/step - loss: 0.0105 - accuracy: 0.9971 - val_loss: 0.0056 - val_accuracy: 0.9925\n",
            "Epoch 23/32\n",
            "1176/1176 [==============================] - 24s 20ms/step - loss: 0.0151 - accuracy: 0.9964 - val_loss: 2.4782e-05 - val_accuracy: 0.9862\n",
            "Epoch 24/32\n",
            "1176/1176 [==============================] - 24s 20ms/step - loss: 0.0071 - accuracy: 0.9978 - val_loss: 0.0053 - val_accuracy: 0.9893\n",
            "Epoch 25/32\n",
            "1176/1176 [==============================] - 24s 20ms/step - loss: 0.0195 - accuracy: 0.9955 - val_loss: 0.0077 - val_accuracy: 0.9862\n",
            "Epoch 26/32\n",
            "1176/1176 [==============================] - 24s 20ms/step - loss: 0.0065 - accuracy: 0.9981 - val_loss: 2.0504e-07 - val_accuracy: 0.9887\n",
            "Epoch 27/32\n",
            "1176/1176 [==============================] - 24s 20ms/step - loss: 0.0182 - accuracy: 0.9965 - val_loss: 2.8978e-05 - val_accuracy: 0.9918\n",
            "Epoch 28/32\n",
            "1176/1176 [==============================] - 24s 21ms/step - loss: 0.0060 - accuracy: 0.9982 - val_loss: 6.1512e-07 - val_accuracy: 0.9918\n",
            "Epoch 29/32\n",
            "1176/1176 [==============================] - 24s 21ms/step - loss: 0.0078 - accuracy: 0.9980 - val_loss: 1.2112e-06 - val_accuracy: 0.9862\n",
            "Epoch 30/32\n",
            "1176/1176 [==============================] - 24s 20ms/step - loss: 0.0152 - accuracy: 0.9964 - val_loss: 0.1938 - val_accuracy: 0.9874\n",
            "Epoch 31/32\n",
            "1176/1176 [==============================] - 24s 20ms/step - loss: 0.0098 - accuracy: 0.9976 - val_loss: 4.3392e-07 - val_accuracy: 0.9843\n",
            "Epoch 32/32\n",
            "1176/1176 [==============================] - 24s 21ms/step - loss: 0.0113 - accuracy: 0.9970 - val_loss: 0.0651 - val_accuracy: 0.9881\n"
          ],
          "name": "stdout"
        }
      ]
    },
    {
      "cell_type": "code",
      "metadata": {
        "id": "VTNFFi9lx7AX",
        "colab_type": "code",
        "outputId": "cb4afd42-eafc-4682-caec-ec8f10c52bac",
        "colab": {
          "base_uri": "https://localhost:8080/",
          "height": 563
        }
      },
      "source": [
        "# PLOT LOSS AND ACCURACY\n",
        "%matplotlib inline\n",
        "\n",
        "import matplotlib.image  as mpimg\n",
        "import matplotlib.pyplot as plt\n",
        "\n",
        "#-----------------------------------------------------------\n",
        "# Retrieve a list of list results on training and test data\n",
        "# sets for each training epoch\n",
        "#-----------------------------------------------------------\n",
        "acc=history.history['accuracy']\n",
        "val_acc=history.history['val_accuracy']\n",
        "loss=history.history['loss']\n",
        "val_loss=history.history['val_loss']\n",
        "\n",
        "epochs=range(len(acc)) # Get number of epochs\n",
        "\n",
        "#------------------------------------------------\n",
        "# Plot training and validation accuracy per epoch\n",
        "#------------------------------------------------\n",
        "plt.plot(epochs, acc, 'r', \"Training Accuracy\")\n",
        "plt.plot(epochs, val_acc, 'b', \"Validation Accuracy\")\n",
        "plt.title('Training and validation accuracy')\n",
        "plt.figure()\n",
        "\n",
        "#------------------------------------------------\n",
        "# Plot training and validation loss per epoch\n",
        "#------------------------------------------------\n",
        "plt.plot(epochs, loss, 'r', \"Training Loss\")\n",
        "plt.plot(epochs, val_loss, 'b', \"Validation Loss\")\n",
        "\n",
        "\n",
        "plt.title('Training and validation loss')\n"
      ],
      "execution_count": 12,
      "outputs": [
        {
          "output_type": "execute_result",
          "data": {
            "text/plain": [
              "Text(0.5, 1.0, 'Training and validation loss')"
            ]
          },
          "metadata": {
            "tags": []
          },
          "execution_count": 12
        },
        {
          "output_type": "display_data",
          "data": {
            "image/png": "[encoded data removed]",
            "text/plain": [
              "<Figure size 432x288 with 1 Axes>"
            ]
          },
          "metadata": {
            "tags": [],
            "needs_background": "light"
          }
        },
        {
          "output_type": "display_data",
          "data": {
            "image/png": "[encoded data removed]",
            "text/plain": [
              "<Figure size 432x288 with 1 Axes>"
            ]
          },
          "metadata": {
            "tags": [],
            "needs_background": "light"
          }
        }
      ]
    },
    {
      "cell_type": "code",
      "metadata": {
        "id": "UEWxjzUfHvMN",
        "colab_type": "code",
        "colab": {
          "base_uri": "https://localhost:8080/",
          "height": 35
        },
        "outputId": "7db09de0-0b34-4994-91f1-f1f2559ffa55"
      },
      "source": [
        "classifier.save(\"sign_detection.h5\") #using h5 extension\n",
        "print(\"model save!!!\")"
      ],
      "execution_count": 14,
      "outputs": [
        {
          "output_type": "stream",
          "text": [
            "model save!!!\n"
          ],
          "name": "stdout"
        }
      ]
    },
    {
      "cell_type": "code",
      "metadata": {
        "id": "drxLiCN1H31s",
        "colab_type": "code",
        "colab": {
          "base_uri": "https://localhost:8080/",
          "height": 348
        },
        "outputId": "9e504301-4498-41e0-b7b5-5ed15798e14f"
      },
      "source": [
        "import numpy as np\n",
        "from google.colab import files\n",
        "from keras.preprocessing import image\n",
        "\n",
        "dir = os.listdir(\"/content/gtsrb-preprocessed/test\")\n",
        "\n",
        "# PREDICTING IMAGES\n",
        "for fn in dir[1:10]:\n",
        "  if(fn.endswith(('.png','.jpg'))):\n",
        "    path = \"/content/gtsrb-preprocessed/test/\" + fn\n",
        "    img = image.load_img(path, target_size=(64,64))\n",
        "    x = image.img_to_array(img)\n",
        "    x = np.expand_dims(x, axis=0)\n",
        "\n",
        "    images = np.vstack([x])\n",
        "    classes = classifier.predict(images, batch_size=10)\n",
        "    print(fn)\n",
        "    print(np.where(classes==1)[1])\n",
        "    #print(classes)\n",
        "\n"
      ],
      "execution_count": 44,
      "outputs": [
        {
          "output_type": "stream",
          "text": [
            "02747.png\n",
            "[1]\n",
            "04699.png\n",
            "[19]\n",
            "07822.png\n",
            "[38]\n",
            "00451.png\n",
            "[2]\n",
            "02348.png\n",
            "[34]\n",
            "00674.png\n",
            "[19]\n",
            "03645.png\n",
            "[1]\n",
            "00333.png\n",
            "[18]\n",
            "07867.png\n",
            "[34]\n"
          ],
          "name": "stdout"
        }
      ]
    }
  ]
}